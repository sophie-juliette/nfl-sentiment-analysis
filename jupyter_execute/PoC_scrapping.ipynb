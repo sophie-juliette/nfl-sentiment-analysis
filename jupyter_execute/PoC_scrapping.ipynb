{
 "cells": [
  {
   "cell_type": "markdown",
   "metadata": {},
   "source": [
    "# Webscrapping"
   ]
  },
  {
   "cell_type": "code",
   "execution_count": 1,
   "metadata": {},
   "outputs": [],
   "source": [
    "import json\n",
    "import re\n",
    "import os\n",
    "from time import sleep\n",
    "from bs4 import BeautifulSoup\n",
    "from pymongo import MongoClient\n",
    "from selenium import webdriver\n",
    "from selenium.webdriver.chrome.options import Options\n",
    "from selenium.webdriver.support import expected_conditions as EC"
   ]
  },
  {
   "cell_type": "code",
   "execution_count": 2,
   "metadata": {},
   "outputs": [],
   "source": [
    "mongodb_pass = json.load(open('API_Data.json'))['mongoDB_pass'] # password mongodb user\n",
    "client = MongoClient(mongodb_pass)\n",
    "db = client.nfl_data\n",
    "mycoll = db.games"
   ]
  },
  {
   "cell_type": "markdown",
   "metadata": {},
   "source": [
    "## Vorstellung des Website\n",
    "\n",
    "Die Basis für die Spieldaten ist die offizielle Webseite der NFL *www.nfl.com*. Die Webseite  bietet ein Developer Portal mit einer API zum Abruf der Daten. Der Zugriff wird jedoch auf NFL Partner und Kunden beschränkt. {cite:p}`NFLdevportal`\n",
    "\n",
    "Aufgrund des begrenzten Nutzerkreises erfolgt die Datenbeschaffung mit Webscrapping. Dies bedingt die Quelltext-Analyse. Die gescrappten Daten werden in die mongoDB-Datenbank geladen.\n",
    "\n",
    "Für das Webscrapping werden verwendet:\n",
    "- Selenium im Chrome Browser\n",
    "- BeautifulSoup"
   ]
  },
  {
   "attachments": {},
   "cell_type": "markdown",
   "metadata": {},
   "source": [
    "Unter *www.nfl.com/schedules* lassen sich die Spielergebnisse der letzten Spielwoche abrufen. Die folgende Abbildung zeigt ein DropDown-Menü über welches Kalenderjahre und zugehörige Wochen abgerufen werden können. .\n",
    "\n",
    "```{figure} /images/nfl_schedule.png\n",
    "---\n",
    "name: nfl_schedule\n",
    "---\n",
    "Screenshot NFL.com - Schedule Dropdown {cite:p}`NFLschedule`\n",
    "```\n",
    "\n",
    "Nach einem Klick auf diese Buttons verändert sich die URL nach einem bestimmten Schema. Dieses Verhalten wird genutzt, um die benötigten Links direkt anzusprechen. Für das Kalenderjahr 2021 und Woche 14 haben die Spielergebnisse folgende URL: *https://www.nfl.com/schedules/2021/REG14/*  \n",
    "Für reguläre Spielwochen besteht der Eintrag immer aus REG + Nummer der Woche. Für andere Events, wie beispielsweise den Superbowl, wird POST zzgl. Nummer verwendet.  \n",
    "Alternativ stellt die Selenium-Bibliothek Funktionen für Klicks zur Verfügung. Mit `find_element()` und `click()` können das Dropdown-Menü und die Cookie-Abfrage gesteuert werden, um die benötigte Website abzurufen. Jedoch handelt es sich bei den Abruf über das Linkschema, um die zielführende Variante.\n",
    "\n",
    "Für das Scrapping wird in Vergangenheits- und Zukunftsdaten unterschieden. Die Vergangenheitsdaten werden mittels der beschriebenen Links abgerufen. Dazu wird nachfolgend eine Textdatei mit den benötigten Links erstellt.\n",
    "Das Scrappen der Zukunftsdaten verwendet einen leicht abgewandelten Code und wird im [Kapitel zur Cloud](gc_future) erläutert."
   ]
  },
  {
   "cell_type": "code",
   "execution_count": null,
   "metadata": {},
   "outputs": [],
   "source": [
    "weeks = list()\n",
    "years = [\"2021\",\"2022\"]\n",
    "for i in range(1,19):\n",
    "    weeks.append(\"REG\"+str(i))\n",
    "    if i <= 4:\n",
    "        weeks.append(\"POST\"+str(i))\n",
    "#path = \"https://www.nfl.com/schedules/\"+ year + \"/\" + week +\"/\""
   ]
  },
  {
   "cell_type": "code",
   "execution_count": null,
   "metadata": {},
   "outputs": [],
   "source": [
    "urls = list()\n",
    "for year in years:\n",
    "    for week in weeks:\n",
    "        urls.append(\"https://www.nfl.com/schedules/\"+ year + \"/\" + week +\"/\")"
   ]
  },
  {
   "cell_type": "code",
   "execution_count": null,
   "metadata": {},
   "outputs": [],
   "source": [
    "with open('link_list.txt', 'w') as f:\n",
    "    for line in urls:\n",
    "        f.write(line)\n",
    "        f.write('\\n')"
   ]
  },
  {
   "attachments": {},
   "cell_type": "markdown",
   "metadata": {},
   "source": [
    "## Vorbereitung Scrapping\n",
    "\n",
    "Beim Scrapping wird Chrome im Headless-Mode zusammen mit Selenium verwendet. Dazu wird nachfolgend eine Chrome-Instanz konfiguriert und aufgerufen.\n",
    "\n",
    "Durch die Funktion `execute_script('return document.body.innerHTML')` wird der Webseiteninhalt geladen, auch wenn die Anzeige aus durch ein Cookie-Fenster blockiert wird. Dies ermöglicht ein Verzicht auf die oben beschriebene `find_element()` und `click()` Funktionen.  \n",
    "Im nächsten Schritt wird der Quelltext mit BeautifulSoup und lxml ausgelesen. Die Klasse `nfl-c-matchup-strip nfl-c-matchup-strip--post-game` beschreibt alle div-Container mit Spieldaten. D.h. pro Eintrag existiert ein div-Container mit dem `a-Tag` (html) = \"aria-label\". Diese Tag enthält Informationen über die spielenden Teams. Innerhalb des jeweiligen Containers befinden sich div-Container mit der class `nfl-c-matchup-strip__team-score`, welche die Spielergebnisse enthalten."
   ]
  },
  {
   "cell_type": "code",
   "execution_count": 3,
   "metadata": {},
   "outputs": [],
   "source": [
    "#options.add_argument(\"--headless\")\n",
    "options = webdriver.ChromeOptions()\n",
    "options.add_argument('--headless')\n",
    "options.add_argument('--no-sandbox')\n",
    "options.add_argument('--disable-dev-shm-usage')\n",
    "options.add_argument(\"lang=en\")\n",
    "options.add_argument(\"start-maximized\")\n",
    "options.add_argument(\"disable-infobars\")\n",
    "options.add_argument(\"--disable-extensions\")\n",
    "options.add_argument(\"--incognito\")\n",
    "options.add_argument(\"--disable-blink-features=AutomationControlled\")"
   ]
  },
  {
   "cell_type": "code",
   "execution_count": 4,
   "metadata": {},
   "outputs": [],
   "source": [
    "example = webdriver.Chrome(executable_path=\"chromedriver\",options=options)\n",
    "example.get('https://www.nfl.com/schedules/2021/REG14/')\n",
    "example_page = example.execute_script('return document.body.innerHTML')\n",
    "example.quit()\n",
    "soup_object = BeautifulSoup(''.join(example_page),'lxml')\n",
    "div_list = soup_object.find_all('div', class_=\"nfl-c-matchup-strip nfl-c-matchup-strip--post-game\")"
   ]
  },
  {
   "cell_type": "code",
   "execution_count": 5,
   "metadata": {},
   "outputs": [
    {
     "data": {
      "text/plain": [
       "<div class=\"nfl-c-matchup-strip nfl-c-matchup-strip--post-game\"><a aria-label=\"Vikings vs Steelers game page\" class=\"nfl-c-matchup-strip__left-area\" href=\"/games/steelers-at-vikings-2021-reg-14\"><div class=\"nfl-c-matchup-strip__game-info\"><p class=\"nfl-c-matchup-strip__period\">FINAL</p></div><div class=\"nfl-c-matchup-strip__game\"><div class=\"nfl-c-matchup-strip__team nfl-c-matchup-strip__team--opponent\"><div class=\"nfl-c-matchup-strip__team-score\" data-require=\"modules/displayScores\" data-score=\"28\">--</div><p class=\"nfl-c-matchup-strip__team-name\"><span class=\"nfl-c-matchup-strip__team-logo\"> <picture><!--[if IE 9]><video style=\"display:none\"><![endif]--><source data-srcset=\"https://static.www.nfl.com/t_q-best/league/api/clubs/logos/PIT\" media=\"(min-width:1024px)\"><source data-srcset=\"https://static.www.nfl.com/t_q-best/league/api/clubs/logos/PIT\" media=\"(min-width:768px)\"><source data-srcset=\"https://static.www.nfl.com/t_q-best/league/api/clubs/logos/PIT\"><!--[if IE 9]></video><![endif]--><img alt=\"Steelers logo\" class=\"img-responsive\" data-src=\"https://static.www.nfl.com/t_q-best/league/api/clubs/logos/PIT\" role=\"presentation\" src=\"data:image/gif;base64,R0lGODlhAQABAIAAAP///wAAACH5BAEAAAAALAAAAAABAAEAAAICRAEAOw==\"/></source></source></source></picture> </span> <span class=\"nfl-c-matchup-strip__team-abbreviation\"> PIT </span> <span class=\"nfl-c-matchup-strip__team-fullname\"> Steelers </span></p><div class=\"nfl-c-matchup-strip__record\">(9-7-1)</div></div><div class=\"nfl-c-matchup-strip__team-separator\"><span class=\"nfl-o-icon nfl-o-icon--medium\"> <svg aria-hidden=\"true\" class=\"nfl-o-icon--nfl-at\" viewbox=\"0 0 24 24\"><use xlink:href=\"#nfl-at\"></use></svg> </span></div><div class=\"nfl-c-matchup-strip__team\"><div class=\"nfl-c-matchup-strip__team-score\" data-require=\"modules/displayScores\" data-score=\"36\">--</div><p class=\"nfl-c-matchup-strip__team-name\"><span class=\"nfl-c-matchup-strip__team-logo\"> <picture><!--[if IE 9]><video style=\"display:none\"><![endif]--><source data-srcset=\"https://static.www.nfl.com/t_q-best/league/api/clubs/logos/MIN\" media=\"(min-width:1024px)\"><source data-srcset=\"https://static.www.nfl.com/t_q-best/league/api/clubs/logos/MIN\" media=\"(min-width:768px)\"><source data-srcset=\"https://static.www.nfl.com/t_q-best/league/api/clubs/logos/MIN\"><!--[if IE 9]></video><![endif]--><img alt=\"Vikings logo\" class=\"img-responsive\" data-src=\"https://static.www.nfl.com/t_q-best/league/api/clubs/logos/MIN\" role=\"presentation\" src=\"data:image/gif;base64,R0lGODlhAQABAIAAAP///wAAACH5BAEAAAAALAAAAAABAAEAAAICRAEAOw==\"/></source></source></source></picture> </span> <span class=\"nfl-c-matchup-strip__team-abbreviation\"> MIN </span> <span class=\"nfl-c-matchup-strip__team-fullname\"> Vikings </span></p><div class=\"nfl-c-matchup-strip__record\">(8-9)</div></div></div></a><div class=\"nfl-c-matchup-strip__right-area\"><a aria-label=\"Replay\" class=\"nfl-o-cta nfl-o-cta--link\" href=\"https://www.nflgamepass.com/en?icampaign=gpd-edi-sht-gampass_replay\"> <span class=\"nfl-o-icon nfl-o-icon--medium\"> <svg aria-hidden=\"true\" class=\"nfl-o-icon--nfl-replay\" viewbox=\"0 0 24 24\"><use xlink:href=\"#nfl-replay\"></use></svg> </span>   <span>Replay</span> </a></div></div>"
      ]
     },
     "execution_count": 5,
     "metadata": {},
     "output_type": "execute_result"
    }
   ],
   "source": [
    "div_list[0]"
   ]
  },
  {
   "cell_type": "code",
   "execution_count": 6,
   "metadata": {},
   "outputs": [
    {
     "name": "stdout",
     "output_type": "stream",
     "text": [
      "Vikings vs Steelers game page\n",
      "--------------------\n",
      "[<div class=\"nfl-c-matchup-strip__team-score\" data-require=\"modules/displayScores\" data-score=\"28\">--</div>, <div class=\"nfl-c-matchup-strip__team-score\" data-require=\"modules/displayScores\" data-score=\"36\">--</div>]\n",
      "--------------------\n",
      "Score mit Index 0: 28\n",
      "Score mit Index 1: 36\n"
     ]
    }
   ],
   "source": [
    "print(div_list[0].find()['aria-label'])\n",
    "print('-'*20)\n",
    "print(div_list[0].find_all('div',class_=\"nfl-c-matchup-strip__team-score\"))\n",
    "print('-'*20)\n",
    "print('Score mit Index 0:',div_list[0].find_all('div',class_=\"nfl-c-matchup-strip__team-score\")[0]['data-score'])\n",
    "print('Score mit Index 1:',div_list[0].find_all('div',class_=\"nfl-c-matchup-strip__team-score\")[1]['data-score'])"
   ]
  },
  {
   "attachments": {},
   "cell_type": "markdown",
   "metadata": {},
   "source": [
    "Der obere Code-Block zeigt den Quelltext-Output für das Spiel *Vikings vs Steelers*. Nachfolgend ist ein Screenshot der Internetseite.  \n",
    "Auf der Internetseite werden die Teamnamen im Vergleich zum 'aria-label'-String verdreht, jedoch die Spielergebnisse in der Anzeigereihenfolge ausgelesen.\n",
    "\n",
    "```{figure} /images/nfl_schedule_vikingsVSsteelers.png\n",
    "---\n",
    "name: nfl_schedule_vikings_steelers\n",
    "---\n",
    "Screenshot NFL.com - Vikings vs Steelers {cite:p}`NFLschedule`\n",
    "```\n",
    "\n",
    "Diese Beobachtung ermöglicht das Speichern der Daten in strukturierter Form. Der String wird nach Leerzeichen gesplittet und der Split-Output mit Index abgerufen. Zum ersten Teamnamen wird der zweite Score-div-Container ausgelesen. Der folgende Codeblock enthält eine beispielhafte Darstellung zum Split der Teamnamen. Ferner wird die Logik gezeigt um Jahr und Woche des Spiels als Information zu ergänzen."
   ]
  },
  {
   "cell_type": "code",
   "execution_count": 7,
   "metadata": {},
   "outputs": [
    {
     "name": "stdout",
     "output_type": "stream",
     "text": [
      "Split-Ergebnis: ['Vikings', 'vs', 'Steelers', 'game', 'page']\n",
      "--------------------\n",
      "Abruf nach Index: Vikings\n",
      "Score mit Index 1: 36\n",
      "--------------------\n",
      "Jahr aus URL: 2021\n",
      "Woche aus URL: Week 14\n"
     ]
    }
   ],
   "source": [
    "print('Split-Ergebnis:',div_list[0].find()['aria-label'].split(' '))\n",
    "print('-'*20)\n",
    "print('Abruf nach Index:', div_list[0].find()['aria-label'].split(' ')[0])\n",
    "print('Score mit Index 1:',div_list[0].find_all('div',class_=\"nfl-c-matchup-strip__team-score\")[1]['data-score'])\n",
    "print('-'*20)\n",
    "myURL = 'https://www.nfl.com/schedules/2021/REG14/'\n",
    "print('Jahr aus URL:',myURL.split('/')[-3])\n",
    "print('Woche aus URL:','Week ' + re.sub(r'[^\\d]+', '', myURL.split('/')[-2]))"
   ]
  },
  {
   "attachments": {},
   "cell_type": "markdown",
   "metadata": {},
   "source": [
    "## Scrapping\n",
    "Mit den oben beschriebenen Erkenntnissen werden Funktionen gebaut, welche das Scrappen mittels der Links aus einer Textdatei ermöglichen.\n",
    "\n",
    "Zunächst wird eine URL aus der Textdatei ausgelesen und daraus gelöscht. Mit der jeweiligen URL wird die Internetseite abgerufen und ein BeautifulSoup-Objekt erzeugt. Auf dieses werden die beschriebenen Scrapping-Schritte durchgeführt.\n",
    "\n",
    "Mit der pymongo-Funktion `insert_one()` werden die Daten in der Datenbank gespeichert. Das Scrapping wird nicht gestartet wenn die Datei link_list.txt leer ist. Vor und nach dem Ausführen der Website-Skripte wird 5 Sekunden gewartet um ein vollständiges Laden zu gewährleisten."
   ]
  },
  {
   "cell_type": "code",
   "execution_count": null,
   "metadata": {},
   "outputs": [],
   "source": [
    "def get_current_week(should_delete = True):\n",
    "    '''\n",
    "    takes: optional input-parameter if url should be deleted, set to false for bugfixing\n",
    "    returns: string from the file link_list.txt which is a url to nfl.com\n",
    "    '''\n",
    "    with open ('link_list.txt', 'r') as f:\n",
    "        first_line = f.readline().split(\"\\n\")[0] #Lesen der ersten Zeile\n",
    "        data = f.read().splitlines(True) #Lesen des gesamten Inhalts\n",
    "    if should_delete:\n",
    "        with open('link_list.txt', 'w') as f2:\n",
    "            f2.writelines(data[0:])\n",
    "    return first_line"
   ]
  },
  {
   "attachments": {},
   "cell_type": "markdown",
   "metadata": {},
   "source": [
    "\n",
    "````{margin}\n",
    "```{warning} Der Name der Washington Redskins wurde geändert. Für 2021 wurde deshalb der Name \"Football Team\" (zwei Wörter) verwendet, weshalb die String-Split-Logik nicht funktioniert. Durch eine Schleife wird der aktuelle Name \"Commanders\" verwendet, wenn als Teamname \"Football\" erkannt wird.\n",
    "```\n",
    "````"
   ]
  },
  {
   "cell_type": "code",
   "execution_count": null,
   "metadata": {},
   "outputs": [],
   "source": [
    "def get_page(myUrl):\n",
    "    '''\n",
    "    takes URL as string\n",
    "    returns b4s-object\n",
    "    '''\n",
    "    driver = webdriver.Chrome(executable_path=\"chromedriver\",options=options)\n",
    "    driver.get(myUrl)\n",
    "    sleep(5)\n",
    "    page = driver.execute_script('return document.body.innerHTML')\n",
    "    sleep(5)\n",
    "    driver.quit()\n",
    "    return BeautifulSoup(''.join(page),'lxml')\n",
    "\n",
    "def get_teams_scores(mySoup):\n",
    "    '''\n",
    "    takes b4s-object output\n",
    "    returns dictionary with teams and scores\n",
    "    '''\n",
    "    teams = mySoup.find()['aria-label'].split(' ')\n",
    "    # check for a game of the washington Football Team\n",
    "    if teams[0] == 'Football':\n",
    "        team1 = 'Commanders'\n",
    "        team2 = teams[3]\n",
    "    elif teams[2] == 'Football':\n",
    "        team1 = teams[0]\n",
    "        team2 = 'Commanders'\n",
    "    else:\n",
    "        team1 = teams[0]\n",
    "        team2 = teams[2]\n",
    "\n",
    "    s1 = mySoup.find_all('div',class_=\"nfl-c-matchup-strip__team-score\")[1]['data-score']\n",
    "    s2 = mySoup.find_all('div',class_=\"nfl-c-matchup-strip__team-score\")[0]['data-score']\n",
    "    return {'team1': team1, 'score1':s1, 'team2':team2, 'score2':s2}\n"
   ]
  },
  {
   "cell_type": "code",
   "execution_count": null,
   "metadata": {},
   "outputs": [],
   "source": [
    "'''\n",
    "Actual Scrapping Run\n",
    "'''\n",
    "if os.stat('link_list.txt').st_size == 0:\n",
    "    print('empty link list')\n",
    "else:   \n",
    "    url = get_current_week()\n",
    "    soup = get_page(url)\n",
    "    containers = soup.find_all('div', class_=\"nfl-c-matchup-strip nfl-c-matchup-strip--post-game\")\n",
    "    for i in containers:\n",
    "        myDict = get_teams_scores(i)\n",
    "        myDict['year'] = url.split('/')[-3]\n",
    "        myDict['week'] = 'Week ' + re.sub(r'[^\\d]+', '', url.split('/')[-2])\n",
    "        mycoll.insert_one(myDict)\n",
    "    print('succesful scrapping run')"
   ]
  }
 ],
 "metadata": {
  "kernelspec": {
   "display_name": "Python 3 (ipykernel)",
   "language": "python",
   "name": "python3"
  },
  "language_info": {
   "codemirror_mode": {
    "name": "ipython",
    "version": 3
   },
   "file_extension": ".py",
   "mimetype": "text/x-python",
   "name": "python",
   "nbconvert_exporter": "python",
   "pygments_lexer": "ipython3",
   "version": "3.9.13 (main, Aug 25 2022, 18:29:29) \n[Clang 12.0.0 ]"
  },
  "vscode": {
   "interpreter": {
    "hash": "fd0a90840973ec53c960faac2ec5a80b0cd969d8e1e064cbc11596d09821ee2d"
   }
  }
 },
 "nbformat": 4,
 "nbformat_minor": 2
}