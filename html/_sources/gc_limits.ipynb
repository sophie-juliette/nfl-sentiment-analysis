{
 "cells": [
  {
   "attachments": {},
   "cell_type": "markdown",
   "metadata": {},
   "source": [
    "(gc_limits)=\n",
    "# Adaption des PoCs an die Cloud"
   ]
  },
  {
   "attachments": {},
   "cell_type": "markdown",
   "metadata": {},
   "source": [
    "## Webscrapping\n",
    "\n",
    "Für das Webscrapping wird der Code aus dem Proof of Concept auf einer Virtuellen Maschine mittels Cronjob gestartet.\n",
    "\n",
    "Mit der Syntax `*/2 * * * *` wird die Datei alle 2 Minuten ausgeführt und damit stetig ein Link aus der Linkliste aufgerufen. Die Zeitverzögerung dient dazu das Erkennen des Scrappers zu vermeiden.\n",
    "\n",
    "\n",
    "## Google Cloud Limits\n",
    "\n",
    "Die im Proof of Concept verwendete Youtube API und die Sentiment-Analyse sind Teil der Google Cloud, welche bei der Erstregistrierung ein Startguthaben von 300 USD anbietet. Um dieses möglichst auszunutzen, wird wie erläutert, die weitere Scrapping-Infrastruktur ebenfalls in der Google Cloud gehalten.\n",
    "\n",
    "Neben den Kosten für die virtuelle Machine sind die Youtube-API und Sentiment-Analyse die limitierenden Faktoren.\n",
    "\n",
    "Ein kostenloser Account darf maximal 10.000 Abrufe über die Youtube-API anfordern. Dies enthält die Suche nach der Video-ID und den Abruf der Kommentare.  \n",
    "Die Sentiment-Analyse ist sehr kostspielig mit 2 USD pro 1.000 Abfragen. Eine Abfrage darf maximal eintausend Zeichen enthalten. Zusätzliche Zeichen werden als eigene Abfrage gezählt.\n",
    "\n",
    "```{figure} /images/sentiment_prices.png\n",
    "---\n",
    "name: sentiment_prices\n",
    "---\n",
    "Screenshot Google Cloud Sentiment Preise {cite:p}`yt_doc_entsent`\n",
    "```\n",
    "\n",
    "## Youtube-API\n",
    "\n",
    "Die Youtube-API wird im Rahmen der kostenlosen Nutzung auf 10.000 Quotas pro Tag begrenzt. Quotas können als Währung verstanden werden. Eine Suchanfrage kostet 100 Quotas. Je Videoabruf wird ein Quota fällig. Der Tagesverbrauch wird über eine Abklingzeit im Verlauf zurückgesetzt. D.h. man muss nicht zwingend 24 Stunden warten bis eine weitere Nutzung möglich ist.\n",
    "\n",
    "Um das Limit nicht zu überschreiten, werden über im Cronjob pro Durchlauf zwei Dokumente der unverarbeiteten Videos geladen. Es werden ca. 2000 Kommentare pro Video erwartet. Unter Berücksichtigung der Limitierung kann der PoC-Code ca. 20 Videos pro Tag bearbeiten. Für die ersten 50 der 468 Videos werden alle Kommentare abgerufen, um die Funktionalität zu belegen. Diese betreffen die Woche 1 bis 4. Näheres dazu wird im Kapitel [Analyse](gc_analysis) erläutert.\n",
    "\n",
    "Die ca. 20 Videos ergeben sich aus 10.000 Quotas im Verhältnis zu den Kosten pro Video: $10000 / (2000 / 20 * 4 + 100)$\n",
    "\n",
    "Alleine für den Abruf der Kommentare sind ca. 24 Tage notwendig. Um die lange Laufzeit zu vermeiden werden nur die ersten 80 Kommentare abgerufen. Für die verbleibenden 418 Videos ergibt sich damit ein Wert von 96 Stück pro Tag.\n",
    "\n",
    "Der Cronjob wird alle 4 Minuten mit folgenden Code ausgeführt. Über den ergänzten try-except-Block in `get_videoID_by_title()` wird ein permanentes Durchlaufen des Codes verhindert. Die Instanz zum Cronjob wird über einen Instanzterminplan täglich von 23 bis 8 Uhr gestartet. \n",
    "\n",
    "```\n",
    "*/4 * * * * export DISPLAY=:0 && export PATH=$PATH:/usr/local/bin && cd /home/markusarmbrecht/ && /home/markusarmbrecht/miniconda3/bin/python sentiment.py >> outputs.txt\n",
    "```\n",
    "\n",
    "Alternativ könnte ein Instanzterminplan und @reboot-Cronjob angelegt werden. In diesem Fall muss eine Lösung fürs Quotalimit gefunden oder eine kostenpflichtige Abfrage genutzt werden.\n",
    "\n",
    "```\n",
    "@reboot export DISPLAY=:0 && export PATH=$PATH:/usr/local/bin && cd /home/markusarmbrecht/ && /home/markusarmbrecht/miniconda3/bin/python sentiment.py >> outputs.txt\n",
    "```\n",
    "\n",
    "Die sentiment.py enthält den Code aus dem Proof of Concept. Jedoch mit 2 Dokumenten, wie unten dargestellt wird, und ein Limit  auf 80 Kommentare je Video."
   ]
  },
  {
   "cell_type": "code",
   "execution_count": null,
   "metadata": {},
   "outputs": [],
   "source": [
    "'''\n",
    "Auszug\n",
    "'''\n",
    "myList = mycoll.find({'videoID':{'$exists':False}})[0:2]\n",
    "for doc in myList:\n",
    "    mongo_obj_id = doc['_id'] # ObjectID von mongoDB speichern\n",
    "    myTitle = doc['team1']+' '+doc['team2']+' '+doc['week']+' Highlights | NFL 2021'\n",
    "    vid_id = get_videoID_by_title(myTitle)\n",
    "    if vid_id == \"NoQuota\":\n",
    "        print(vid_id)\n",
    "        break"
   ]
  },
  {
   "cell_type": "code",
   "execution_count": null,
   "metadata": {},
   "outputs": [],
   "source": [
    "def get_videoID_by_title(video_title):\n",
    "    '''\n",
    "    takes: video_title as string\n",
    "    returns: videoId as string\n",
    "    describtion:\n",
    "        builds a connection to Youtube Data API and executes a search method to list results.\n",
    "        searches for channelId from NFL-Youtube Channel, for videos only\n",
    "        returns videoID for most relevant search result\n",
    "    '''\n",
    "    try:\n",
    "        youtube = build('youtube', 'v3', \n",
    "                    developerKey=api_key)\n",
    "        response = youtube.search().list(\n",
    "        \t        part='snippet',\n",
    "                \tq=video_title,\n",
    "                \tchannelId='UCDVYQ4Zhbm3S2dlz7P1GBDg', # NFL Channel ID\n",
    "                \ttype='video',\n",
    "                \torder='relevance', # Default Value = relevance\n",
    "                \tmaxResults=1\n",
    "                \t).execute()\n",
    "        return response['items'][-1]['id']['videoId']\n",
    "    except:\n",
    "        return \"NoQuota\""
   ]
  },
  {
   "attachments": {},
   "cell_type": "markdown",
   "metadata": {},
   "source": [
    "Die folgende Grafik zeigt den beschriebenen Kontingentverbrauch.\n",
    "\n",
    "```{figure} /images/ytapi_kontigent.png\n",
    "---\n",
    "name: yt_api_konti\n",
    "---\n",
    "Screenshot Youtube API Kontingent\n",
    "```"
   ]
  },
  {
   "attachments": {},
   "cell_type": "markdown",
   "metadata": {},
   "source": [
    "## Sentiment Analyse\n",
    "\n",
    "Jedoch ist die Youtube API nicht der Flaschenhals des Projekts. Die Sentimentanalyse ist kostspielig und für die absolute Menge an Kommentaren wird das Guthaben nicht ausreichen.  \n",
    "Im Durchlauf für die Wochen 1 bis 4 sind ca 150 USD an Kosten angefallen. Ein Erwartungswert wurde mit einem Schätzwert von ca 2000 Kommentaren je Video ermittelt: $50 * 2000 * 0,002 = 200$\n",
    "\n",
    "Nach der Drosselung auf 80 Kommentare pro Video können folgende Kosten erwartet werden.\n",
    "\n",
    "$418 Videos * 4 PageTokens * 20 Kommentare = 33.440 Kommentare$  \n",
    "$33.440 * 0,002 = 66,88$\n",
    "\n",
    "Die Limitierung erfolg über die Funktion `get_comments()` aus dem Proof of Concept. Dabei wird der Counter auf 4 gesetzt, um den While-Loop nach 80 Kommentaren zu verlassen. (siehe nachfolgenden Code)"
   ]
  },
  {
   "cell_type": "code",
   "execution_count": null,
   "metadata": {},
   "outputs": [],
   "source": [
    "myList = mycoll.find({'videoID':{'$exists':False}})"
   ]
  },
  {
   "cell_type": "code",
   "execution_count": null,
   "metadata": {},
   "outputs": [],
   "source": [
    "def get_comments(vidId):\n",
    "    '''\n",
    "    takes: youtube video id as string, global api_key as string\n",
    "    returns: list of toplevel-comments under video (no replies)\n",
    "    describtion:\n",
    "        builds a connection to Youtube Data API and executs commentsThreads().list() methods\n",
    "        iterates over response from api request and stores displayed text as string in an list\n",
    "        breaks if no NextPageToken is provided. Thus end of comments is reached.\n",
    "        breaks if counter < threshold-value prevent Youtube out of quota error\n",
    "        returns list with comments\n",
    "    '''\n",
    "    # list for several pages\n",
    "    comments = list()\n",
    "    counter = 4 # entfällt beim 50-Video Durchlauf\n",
    "\n",
    "    # get youtube access\n",
    "    youtube = build('youtube', 'v3', \n",
    "                developerKey=api_key)\n",
    "    \n",
    "    # get response\n",
    "    response = youtube.commentThreads().list(\n",
    "\t            part='snippet',\n",
    "\t            videoId=vidId,\n",
    "                textFormat='plainText'\n",
    "\t            ).execute()\n",
    "\n",
    "    # iterate over comments and append to output list\n",
    "    while True:\n",
    "        for item in response['items']:\n",
    "            comments.append(item['snippet']['topLevelComment']['snippet']['textDisplay'])\n",
    "        \n",
    "        counter -= 1       # Entfällt beim 50-Video Durchlauf\n",
    "        if counter < 1:\n",
    "            break\n",
    "\n",
    "        if 'nextPageToken' in response:\n",
    "            response = youtube.commentThreads().list(\n",
    "\t                part='snippet',\n",
    "                    pageToken=response['nextPageToken'],\n",
    "\t                videoId=vidId\n",
    "\t                ).execute()\n",
    "        else:\n",
    "            break\n",
    "    \n",
    "    return comments"
   ]
  },
  {
   "attachments": {},
   "cell_type": "markdown",
   "metadata": {},
   "source": [
    "Die folgende Grafik zeigt den Traffic in der Google Cloud. Der Verbrauch der Youtube-API ist in blau und die der Sentiment Analyse in orange eingezeichnet.\n",
    "\n",
    "Zu erkennen ist der rasante Anstieg der Youtube-Fehlerquote, sobald die Youtube Quota aufgebraucht ist. Mit etwas mehr Code könnte auch ein Abschalten der Instanz getriggert werden, wenn die \"Out of Quota\"-Fehlermeldung zurückgegeben wird.\n",
    "\n",
    "Bei der orangenen Linie ist zu erkennen, dass der Code wie geplant nicht zur Sentiment Analyse durchläuft.\n",
    "\n",
    "```{figure} /images/ytapi_track_traffic.png\n",
    "---\n",
    "name: yt_api_traffic\n",
    "---\n",
    "Screenshot Google Cloud Traffic\n",
    "```"
   ]
  }
 ],
 "metadata": {
  "kernelspec": {
   "display_name": "Python 3 (ipykernel)",
   "language": "python",
   "name": "python3"
  },
  "language_info": {
   "codemirror_mode": {
    "name": "ipython",
    "version": 3
   },
   "file_extension": ".py",
   "mimetype": "text/x-python",
   "name": "python",
   "nbconvert_exporter": "python",
   "pygments_lexer": "ipython3",
   "version": "3.9.12 (main, Apr  5 2022, 01:53:17) \n[Clang 12.0.0 ]"
  },
  "vscode": {
   "interpreter": {
    "hash": "9b8dfdb05e476a0fb0e450349f9b76abd6ac1559882404eeba22108e759c936b"
   }
  }
 },
 "nbformat": 4,
 "nbformat_minor": 2
}
