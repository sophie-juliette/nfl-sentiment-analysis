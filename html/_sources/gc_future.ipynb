{
 "cells": [
  {
   "attachments": {},
   "cell_type": "markdown",
   "metadata": {},
   "source": [
    "(gc_future)=\n",
    "# Zukünftige Daten"
   ]
  },
  {
   "attachments": {},
   "cell_type": "markdown",
   "metadata": {},
   "source": [
    "## Konzept\n",
    "Um zukünftige Daten zu scrappen, muss der Code leicht angepasst werden. Die folgende Abbildung zeigt eine ereignisgesteuerte Prozesskette (EPK) zur Gestaltung.\n",
    "\n",
    "Die Spielwoche geht von Freitag bis Donnerstag. Das Skript für das Scrapping und zum Befüllen der Linkliste wird abhängig von diesen Zeitplan ausgeführt. Zusätzlich wird überprüft ob die Daten bereits zur Verfügung stehen und der Sentiment-Abruf erfolgen kann. Bestenfalls verzögert man den Abruf noch um ein paar Tage, um eine angemessene Anzahl an Kommentaren abrufen zu können.\n",
    "\n",
    "```{figure} /images/gc_futureData.drawio.png\n",
    "---\n",
    "name: future_ablauf\n",
    "---\n",
    "EPK zum Abruf zukünftiger Daten\n",
    "```\n",
    "\n",
    "Die nachfolgende Codeänderungen sind notwendig, um die geplante EPK umzusetzen. Das Zeitereignis soll mit einem Cronjob und dem Instanzenterminplan getriggert werden.\n",
    "\n",
    "Dazu wird auf die bekannte Vorgehensweise zurückgegriffen. Nachdem der Instanzenterminplan die Instanz startet, wird folgender Cronjob ausgelöst.\n",
    "\n",
    "```\n",
    "@reboot sleep 300 & ... & .../python scrapping.py >> output_log.txt\n",
    "```\n",
    "Ergänzend sollte eine Abschaltung der Instanz über ein Shutdown-Skript programmiert werden. "
   ]
  },
  {
   "cell_type": "markdown",
   "metadata": {},
   "source": [
    "## Linkliste befüllen"
   ]
  },
  {
   "cell_type": "markdown",
   "metadata": {},
   "source": [
    "Wie in Kapitel POC beschrieben ist, setzt sich die URL auf der offiziellen Seite der NFL nach einem festen Schema zusammen. Werden über das Schema Links zu Wochen aufgerufen, welche noch nicht existieren, wird \"No Games Available\" ausgegeben (siehe Abbildung).\n",
    "\n",
    "```{figure} /images/no_games.png\n",
    "---\n",
    "name: future_no_games\n",
    "---\n",
    "Screenshot nfl.com \"No Games Available\"\n",
    "```\n",
    "\n",
    "Mit BeautifulSoup kann ermittlet werden, ob eine Seite diesen Einträg enthält. In diesem Fall wird der Link vorerst nicht zur Linkliste ergänzt. Das Skript zum Befüllen der Linkliste muss ebenfalls abhängig vom Zeitplan der Spielwache gestartet werden. "
   ]
  },
  {
   "cell_type": "markdown",
   "metadata": {},
   "source": [
    "## Änderung Scrapping\n",
    "\n",
    "Das Scrapping kann abhängig vom Inhalt der Linkliste gesteuert werden. Diese Methode wird bereits zum Stoppen des Skripts eingesetzt.\n",
    "\n",
    "Statt eines print-Statements kann ein Shutdownskript ausgeführt werden, welches die Instanz herunterfährt {cite:p}`gc_shutdown`. Der nachfolgende Code verwendet jedoch einen lokalen sudo-Befehl für Linux VM {cite:p}`gc_shutdownVM`."
   ]
  },
  {
   "cell_type": "code",
   "execution_count": null,
   "metadata": {},
   "outputs": [],
   "source": [
    "\n",
    "if os.stat('link_list.txt').st_size == 0:\n",
    "    os.system(\"sudo shutdown -h now\")\n",
    "else:   \n",
    "    url = get_current_week()\n",
    "    soup = get_page(url)\n",
    "    containers = soup.find_all('div', class_=\"nfl-c-matchup-strip nfl-c-matchup-strip--post-game\")\n",
    "    for i in containers:\n",
    "        myDict = get_teams_scores(i)\n",
    "        myDict['year'] = url.split('/')[-3]\n",
    "        myDict['week'] = 'Week ' + re.sub(r'[^\\d]+', '', url.split('/')[-2])\n",
    "        mycoll.insert_one(myDict)\n",
    "    print('succesful scrapping run')"
   ]
  },
  {
   "cell_type": "markdown",
   "metadata": {},
   "source": [
    "## Anpassungen Sentiment-Skript\n",
    "\n",
    "Zu Beginn des Sentiment-Skripts wird geprüft, ob in der Datenbank Dokumente ohne das Feld *videoID* vorhanden sind. Dieser Teil des Codes kann mit einer if-else-Abfrage geprüft werden. Diese ruft eine Funktion auf, solange die Liste länger als Null ist.\n",
    "\n",
    "Zur Abfrage wird von einer for-Loop auf while-Loop gewechselt und der letzte Eintrag in der Liste abgerufen.\n",
    "Sobald nur noch Dokumente mit Feld *videoID* vorhanden sind kann das oben beschriebene Shutdown-Skript ausgeführt werden."
   ]
  },
  {
   "cell_type": "code",
   "execution_count": null,
   "metadata": {},
   "outputs": [],
   "source": [
    "myList = mycoll.find({'videoID':{'$exists':False}}) # Anzahl der Dokumente entfällt\n",
    "\n",
    "while myList > 0:\n",
    "    myList.pop(-1)\n",
    "\n",
    "### Unterhalb der alte Code ###\n",
    "\n",
    "    mongo_obj_id = doc['_id'] # Store ObjectID from mongoDB\n",
    "    myTitle = doc['team1']+' '+doc['team2']+' '+doc['week']+' Highlights | NFL 2021' # Generate Title String to retrieve videoID\n",
    "    vid_id = get_videoID_by_title(myTitle)\n",
    "    counter = 0\n",
    "\n",
    "    for comment in get_comments(vid_id):\n",
    "        counter += 1\n",
    "        myDict = dict()\n",
    "        # Retrieve old information\n",
    "        myDict = doc\n",
    "        myDict['videoID'] = vid_id\n",
    "\n",
    "        # Add new information / generate one doc per entity\n",
    "        myDict['comment'] = comment\n",
    "        try: \n",
    "            entList = get_entity_sentiment(comment)\n",
    "            for ent in entList:\n",
    "                del myDict['_id'] # Delete ObjectId that is returned after first insert_one() function call\n",
    "                myDict['entity'] = ent['entity']\n",
    "                myDict['salience'] = ent['salience']\n",
    "                myDict['score'] = ent['score']\n",
    "                myDict['magnitude'] = ent['magnitude']\n",
    "                mycoll.insert_one(myDict)\n",
    "        except:\n",
    "            print('Comment is not in English.') # Catch Comments that are not in English. Those cannot be analysed by our sentiment-function.\n",
    "    mycoll.delete_one({'_id':ObjectId(mongo_obj_id)}) # Delete Object bei ID\n",
    "\n",
    "### Unterhalb neuer Code ###\n",
    "\n",
    "os.system(\"sudo shutdown -h now\")"
   ]
  }
 ],
 "metadata": {
  "kernelspec": {
   "display_name": "Python 3 (ipykernel)",
   "language": "python",
   "name": "python3"
  },
  "language_info": {
   "codemirror_mode": {
    "name": "ipython",
    "version": 3
   },
   "file_extension": ".py",
   "mimetype": "text/x-python",
   "name": "python",
   "nbconvert_exporter": "python",
   "pygments_lexer": "ipython3",
   "version": "3.9.12 (main, Apr  5 2022, 01:53:17) \n[Clang 12.0.0 ]"
  },
  "vscode": {
   "interpreter": {
    "hash": "9b8dfdb05e476a0fb0e450349f9b76abd6ac1559882404eeba22108e759c936b"
   }
  }
 },
 "nbformat": 4,
 "nbformat_minor": 2
}
