{
 "cells": [
  {
   "cell_type": "markdown",
   "metadata": {},
   "source": [
    "# Datenbank"
   ]
  },
  {
   "cell_type": "code",
   "execution_count": 10,
   "metadata": {},
   "outputs": [],
   "source": [
    "import json\n",
    "from pymongo import MongoClient\n",
    "from bson import ObjectId"
   ]
  },
  {
   "cell_type": "markdown",
   "metadata": {},
   "source": [
    "Die Spieldaten aus dem Webscrapping und Youtube-Kommentare werden in einer mongodb-Datenbank gespeichert. Diese dient als zentrale Ablage für Daten aus Teilschritten und Endergebnis. In diesem Notebook wird das Konzept dazu erläutert. \n"
   ]
  },
  {
   "cell_type": "markdown",
   "metadata": {},
   "source": [
    "## Entscheidung für NoSQL\n",
    "\n",
    "Nachfolgend werden zwei mögliche Ideen zum Vorhalten der Daten in der mongodb-Datenbank gezeigt.\n",
    "\n",
    "**Entwurf 1**\n",
    "\n",
    "Die Feldnamen team1, team2, score1, score2 und week sind Ergebnisse des Webscrappings. Im ersten Entwurf sollten die Kommentare und Sentiment-Felder (hier beispielhaft mit Score und Salience) als Liste je Spiel-Dokument hinzugefügt werden.\n",
    "\n",
    "```\n",
    "{\n",
    "    'team1':Name1,\n",
    "    'team2':Name2,\n",
    "    'score1':16,\n",
    "    'score2':28,\n",
    "    'week':'Week 4'\n",
    "    'Kommentare Text': Liste mit Kommentaren [\n",
    "                                        'string 1', string2,...\n",
    "                                        ]\n",
    "    'Kommentare Nr Scores': Liste mit Dicts zu Entitäten [{\n",
    "                                                             'Dellas':0.4,\n",
    "                                                             'Packers':0.6,   \n",
    "                                                            }]\n",
    "    'Kommentare Nr Salience': Liste mit Dicts zu Entitäten [{\n",
    "                                                             'Dellas':0.4,\n",
    "                                                             'Packers':0.6,   \n",
    "                                                            }]\n",
    "}\n",
    "```\n",
    "\n",
    "**Entwurf 2**\n",
    "\n",
    "Im zweiten Entwurf wird je Entität ein eigenes Dokument erstellt. Die Entität ist dabei das Resultat aus der später erläuterten Sentimentanalyse. Dadurch entfällt die komplexe Listenlogik und der Zugriff auf die Elemente wird erleichtert. Da alle Feldnamen bekannt sind wäre eine SQL-Datenbank aus dem Google Cloud Angebot ebenso möglich.\n",
    "\n",
    "Die Entscheidung fällt auf Entwurf 2 mit mongoDB als NoSQL-Lösung, um die Flexibilität bei der Weiterentwicklung des Projekts zu erhalten.\n",
    "\n",
    "```\n",
    "{\n",
    "    'team1':Name1,\n",
    "    'team2':Name2,\n",
    "    'score1':16,\n",
    "    'score2':28,\n",
    "    'week':'Week 4'\n",
    "    \n",
    "    'videoID': String\n",
    "    \n",
    "    'Kommentar': String\n",
    "    'Entität': String\n",
    "    'Score': value\n",
    "    'Salience': value\n",
    "}\n",
    "```"
   ]
  },
  {
   "cell_type": "markdown",
   "metadata": {},
   "source": [
    "## Einrichtung mongodb\n",
    "\n",
    "Als Teil der Cloud-Infrastruktur wird MongoDB als Datenbank verwendet. Diese kann über den Google Cloud Account erstellt werden und wird nach Nutzung abgerechnet.  \n",
    "Auf mongodb.com wird eine kostenloses Cluster mit 512 MB angeboten, welche nach Auswahl auf aws, Google Cloud oder Azure Cloud gehostet wird. Daher erfolgt die Registrierung auf mongodb.com und die Datenbank wird als einzige Komponente außerhalb des Google Cloud Accounts verwaltet. Die nachfolgenden Abbildungen zeigen einen Teil des Erstellprozesses.\n",
    "\n",
    "```{figure} /images/mongoDB_clouds.png\n",
    "---\n",
    "name: mongoDB_clouds\n",
    "---\n",
    "Screenshot Clouds für mongoDB {cite:p}`mongodb_info`\n",
    "```\n",
    "\n",
    "```{figure} /images/mongoDB_price.png\n",
    "---\n",
    "name: mongoDB_price\n",
    "---\n",
    "Screenshot Preise für mongoDB {cite:p}`mongodb_info`\n",
    "```\n",
    "\n",
    "Die Datei API_Data.json enthält unter anderem die Zugangsdaten zur Datenbank. Nachfolgend wird eine Verbindung zu mongodb aufgebaut. Für den Proof of Concept wird eine zweiten Datenbank als in der späteren Cloud-Lösung verwendet."
   ]
  },
  {
   "cell_type": "code",
   "execution_count": 7,
   "metadata": {},
   "outputs": [],
   "source": [
    "mongodb_pass = json.load(open('API_Data.json'))['mongoDB_pass'] # password mongodb user\n",
    "client = MongoClient(mongodb_pass)\n",
    "\n",
    "# Proof of Concept\n",
    "db = client.nfl_data\n",
    "mycoll = db.games\n",
    "\n",
    "# Cloud Umgebung\n",
    "db_cloud = client.gc_nfl\n",
    "mycoll_cloud = db_cloud.gc_games"
   ]
  },
  {
   "cell_type": "markdown",
   "metadata": {},
   "source": [
    "## Beispielcode\n",
    "\n",
    "Mit folgenden Code-Snippets wird regelmäßig gearbeitet."
   ]
  },
  {
   "cell_type": "code",
   "execution_count": null,
   "metadata": {},
   "outputs": [],
   "source": [
    "'''\n",
    "Hinzufügen eines Dictionaries\n",
    "'''\n",
    "mycoll.insert_one()"
   ]
  },
  {
   "cell_type": "code",
   "execution_count": null,
   "metadata": {},
   "outputs": [],
   "source": [
    "'''\n",
    "Hinzufügen von Testdaten\n",
    "'''\n",
    "test = [{'team1': 'Giants', 'week': 'Week 5', 'team2': 'Cowboys', 'year': '2021'},\n",
    "{'team1': 'Rams', 'week': 'Week 5', 'team2': 'Seahawks', 'year': '2021'},\n",
    "{'team1': 'Cowboys', 'score1': '16', 'team2': 'Broncos', 'score2': '30', 'year': '2021', 'week': 'Week 9'}]\n",
    "mycoll.insert_many(test)"
   ]
  },
  {
   "cell_type": "code",
   "execution_count": null,
   "metadata": {},
   "outputs": [],
   "source": [
    "'''\n",
    "Sicherung des erfolgreichen Webscrapping Durchlaufs in einer json-Datei.\n",
    "'''\n",
    "data = list(mycoll_cloud.find({'videoID':{'$exists':False}},{'_id':0}))\n",
    "with open('backup_data.json','w') as f:\n",
    "    json.dump(data,f)"
   ]
  },
  {
   "cell_type": "code",
   "execution_count": null,
   "metadata": {},
   "outputs": [],
   "source": [
    "'''\n",
    "Löschen von Daten die im Rahmen des Testens erzeugt wurden.\n",
    "Delete_many zur Sicherheit mit Trigger und Auskommentierung.\n",
    "'''\n",
    "trigger = False\n",
    "if trigger == True:\n",
    "    # mycoll.delete_many({})\n",
    "    # mycoll_cloud.delete_many({'videoID':{'$exists':True}})\n",
    "\n",
    "# id = '638b477dfa6daae7e37061d9'\n",
    "# mycoll.delete_one({'_id':ObjectId(id)})\n"
   ]
  }
 ],
 "metadata": {
  "kernelspec": {
   "display_name": "Python 3 (ipykernel)",
   "language": "python",
   "name": "python3"
  },
  "language_info": {
   "codemirror_mode": {
    "name": "ipython",
    "version": 3
   },
   "file_extension": ".py",
   "mimetype": "text/x-python",
   "name": "python",
   "nbconvert_exporter": "python",
   "pygments_lexer": "ipython3",
   "version": "3.9.12"
  },
  "vscode": {
   "interpreter": {
    "hash": "fd0a90840973ec53c960faac2ec5a80b0cd969d8e1e064cbc11596d09821ee2d"
   }
  }
 },
 "nbformat": 4,
 "nbformat_minor": 2
}
