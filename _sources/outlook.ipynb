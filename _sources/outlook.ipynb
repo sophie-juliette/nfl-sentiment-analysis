{
 "cells": [
  {
   "cell_type": "markdown",
   "id": "b6470c6c",
   "metadata": {},
   "source": [
    "# Ausblick und Fazit"
   ]
  },
  {
   "cell_type": "markdown",
   "id": "712f3b54",
   "metadata": {},
   "source": [
    "In den vorhergenden Notebooks haben wir gezeigt, dass durch Webscrapping und Sentimentanalyse der Zusammenhang zwischen Stimmung und Leistung untersucht werden kann. Bei der Bearbeitung sind wir an verschiedene Grenzen der technischen Umsetzung gestoßen, welche wie folgt aufgelöst werden können. Ebenfalls stellen wir dar, wie der Use-Case weiterentwickelt werden kann. "
   ]
  },
  {
   "cell_type": "markdown",
   "id": "3737e9c4",
   "metadata": {},
   "source": [
    "## Technischer Umsetzung "
   ]
  },
  {
   "attachments": {},
   "cell_type": "markdown",
   "id": "26580e37",
   "metadata": {},
   "source": [
    "Die im Abschnitt [zukünftige Daten](gc_future) beschriebene Logik konzentrierte sich stark an dem PoC. Hier könnten Schnittstellenoptimierungen im Code erfolgen für mehr Effizenz. \n"
   ]
  },
  {
   "cell_type": "markdown",
   "id": "e36d4599",
   "metadata": {},
   "source": [
    "Die wesentlichste Limitierung im Projekt war das geringe Budget in Google Cloud. Dies hatte sowohl Auswirkungen auf die Youtube-API, wie auch auf die Sentiment-Analyse mit Google NLP.  \n",
    "Über einen längeren Zeitraum könnten zum Beispiel mehr Videos innerhalb der Youtube-API-Limits abgerufen werden, wenn der jeweilige PageToken wie ein Cookie in einer Textdatei gespeichert wird. Beim nächsten Durchlauf kann dieser als Startpunkt verwendet werden. Um weniger Traffic über Google NLP zu generieren, könnten beispielweise zuerst die Kommentare mit Mannschaftsnamen aus dem Synonym-Wörtbuch bestimmt werden, bevor diese mit NLP analysiert werden. "
   ]
  },
  {
   "cell_type": "markdown",
   "id": "80a7fcc5",
   "metadata": {},
   "source": [
    "Zur graphischen Auswertung der Sentimentanlyse könenn die Grafiken aus dem Notebook \"Datenanalyse\" in ein Dashboard überführt werden. Ein Lösung in der Google Cloud, Looker, würde sich dafür anbieten. "
   ]
  },
  {
   "cell_type": "markdown",
   "id": "d11083de",
   "metadata": {},
   "source": [
    "## Weiterentwicklung des Use-Case"
   ]
  },
  {
   "cell_type": "markdown",
   "id": "ef8db0d8",
   "metadata": {},
   "source": [
    "Das Scrapping in der Cloud ist bereits so gestaltet, dass durch einen fortlaufenden Betrieb (z.B. einmal die Woche nach Abschluss des Spieltags) die Aktualität des Dashboards gewährleistet wird. "
   ]
  },
  {
   "attachments": {},
   "cell_type": "markdown",
   "id": "3d3cb2fc",
   "metadata": {},
   "source": [
    "Zusätzlich kann das Dashboard mit vielen weiteren Social-Media-Daten ergänzt werden. Dafür müssen Kanäle wie Instagram oder Facebook analysiert und eingebunden werden.  \n",
    "Durch „Lags“ (Zeitreihenverschiebung) kann ein Bezug zwischen Stimmung und einem vorhergenden Spiel ermittelt werden. Wie beispielsweise eine sehr positive Stimmung im Vorfeld zum eingangs vorgestellten Spiel in München 2022. {cite:p}`dw_nfl`  \n",
    "Abschließend kann auch ein Vergleich der Mannschaften untereinander im Dashboard, zu weiteren Erkenntnissen führen. "
   ]
  }
 ],
 "metadata": {
  "kernelspec": {
   "display_name": "base",
   "language": "python",
   "name": "python3"
  },
  "language_info": {
   "codemirror_mode": {
    "name": "ipython",
    "version": 3
   },
   "file_extension": ".py",
   "mimetype": "text/x-python",
   "name": "python",
   "nbconvert_exporter": "python",
   "pygments_lexer": "ipython3",
   "version": "3.9.12 (main, Apr  5 2022, 01:53:17) \n[Clang 12.0.0 ]"
  },
  "vscode": {
   "interpreter": {
    "hash": "9b8dfdb05e476a0fb0e450349f9b76abd6ac1559882404eeba22108e759c936b"
   }
  }
 },
 "nbformat": 4,
 "nbformat_minor": 5
}
