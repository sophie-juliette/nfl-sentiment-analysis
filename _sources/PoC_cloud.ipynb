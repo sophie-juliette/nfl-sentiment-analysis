{
 "cells": [
  {
   "cell_type": "markdown",
   "metadata": {},
   "source": [
    "# Kommentare und Sentiment"
   ]
  },
  {
   "cell_type": "code",
   "execution_count": 1,
   "metadata": {},
   "outputs": [],
   "source": [
    "import json\n",
    "import os\n",
    "from googleapiclient.discovery import build\n",
    "from google.cloud import language_v1\n",
    "import pandas as pd\n",
    "from pymongo import MongoClient\n",
    "from bson.objectid import ObjectId"
   ]
  },
  {
   "cell_type": "code",
   "execution_count": null,
   "metadata": {},
   "outputs": [],
   "source": [
    "'''\n",
    "Zur Installation von Google spezifischen Bibliotheken\n",
    "'''\n",
    "# !pip install --upgrade google-api-python-client\n",
    "# !pip install --upgrade google-cloud-language"
   ]
  },
  {
   "cell_type": "markdown",
   "metadata": {},
   "source": [
    "## Verbindung zu mongodb und Google Cloud\n",
    "\n",
    "Zunächst werden die Verbindungen zur Cloud-Infrastruktur erstellt.\n",
    "\n",
    "Die JSON-Datei API_Data enthält den API Key zur Youtube-API und den mongodb-Zugang.\n",
    "Die Google Sentiment Analyse erfolgt mit Application Credentials welche als Systemvariablen eingelesen werden."
   ]
  },
  {
   "cell_type": "code",
   "execution_count": 2,
   "metadata": {},
   "outputs": [],
   "source": [
    "api_key = json.load(open('API_Data.json'))['ytDataAPI'] # key for Youtube Data API\n",
    "mongodb_pass = json.load(open('API_Data.json'))['mongoDB_pass'] # password mongodb user\n",
    "os.environ[\"GOOGLE_APPLICATION_CREDENTIALS\"]=\"green-reporter-369217-84ed773093b1.json\" # expose google service account for sentiment analysis"
   ]
  },
  {
   "cell_type": "code",
   "execution_count": 21,
   "metadata": {},
   "outputs": [],
   "source": [
    "client = MongoClient(mongodb_pass)\n",
    "db = client.nfl_data\n",
    "mycoll = db.games"
   ]
  },
  {
   "cell_type": "markdown",
   "metadata": {},
   "source": [
    "## Youtube Part I: Schnittstelle Webscrapping und Video-ID\n",
    "\n",
    "Je Spiel muss das relevante Highlightvideo auf Youtube aufgerufen werden. \n",
    "Der Abruf erfolgt mit der Video-ID, welche durch die nachfolgende Funktion gesucht wird.\n",
    "\n",
    "Nachdem die Verbindung zur Youtube-API aufgerufen wird, erfolgt eine Suchanfrage mit `search().list()`. Die Anzahl der Suchergebnisse wird auf eins beschränkt. Zur Risikominimierung wird die Suche auf die Channel-ID des NFL-Youtubekanals begrenzt und eine Sortierung nach Relevanz verwendet."
   ]
  },
  {
   "cell_type": "code",
   "execution_count": 7,
   "metadata": {},
   "outputs": [
    {
     "name": "stdout",
     "output_type": "stream",
     "text": [
      "Video Titel: Tennessee Titans vs. Green Bay Packers | 2022 Week 11 Game Highlights \n",
      "VideoID: MUd1fUyTA5Q\n"
     ]
    }
   ],
   "source": [
    "def get_videoID_by_title(video_title):\n",
    "    '''\n",
    "    takes: video_title as string\n",
    "    returns: videoId as string\n",
    "    describtion:\n",
    "        builds a connection to Youtube Data API and executes a search method to list results.\n",
    "        searches for channelId from NFL-Youtube Channel, for videos only\n",
    "        returns videoID for most relevant search result\n",
    "    '''\n",
    "    youtube = build('youtube', 'v3', \n",
    "                developerKey=api_key)\n",
    "    \n",
    "    response = youtube.search().list(\n",
    "                part='snippet',\n",
    "                q=video_title,\n",
    "                channelId='UCDVYQ4Zhbm3S2dlz7P1GBDg', # NFL Channel ID\n",
    "                type='video',\n",
    "                order='relevance', # Default Value = relevance\n",
    "                maxResults=1\n",
    "                ).execute()\n",
    "    \n",
    "    return response['items'][-1]['id']['videoId']\n",
    "\n",
    "video_title = 'Tennessee Titans vs. Green Bay Packers | 2022 Week 11 Game Highlights'\n",
    "print('Video Titel: %s \\nVideoID: %s'%(video_title,get_videoID_by_title('Tennessee Titans vs. Green Bay Packers | 2022 Week 11 Game Highlights')))"
   ]
  },
  {
   "cell_type": "markdown",
   "metadata": {},
   "source": [
    "Nachfolgende Abbildungen zeigen einmal die Channel-ID, welche aus dem Quellcode entnommen werden kann und die Verifizierung zur oben ausgegeben Video-ID über den Teilen-Link.\n",
    "\n",
    "```{figure} /images/channelid.png\n",
    "---\n",
    "name: nfl_channel_id\n",
    "---\n",
    "Screenshot Youtube NFL {cite:p}`nfl_yt_chan`\n",
    "```\n",
    "\n",
    "```{figure} /images/videoid.png\n",
    "---\n",
    "name: nfl_videoid\n",
    "---\n",
    "Screenshot Youtube VideoID {cite:p}`nfl_yt_vid`\n",
    "```"
   ]
  },
  {
   "cell_type": "markdown",
   "metadata": {},
   "source": [
    "## Youtube Part II: Kommentare zur Video-ID\n",
    "\n",
    "Nachdem die Video-ID bekannt ist, können die Kommentare aufgerufen werden. Dies erfolgt mit der Funktion `commentThreads().list()`. Zurückgegeben wird ein Dictionary mit Kommentar-Items.\n",
    "In dieser Arbeit liegt der Fokus auf den TopLevel-Kommentaren, welche einer Liste hinzugefügt werden. Je Abruf über die API wird ein Quota verbraucht. Ein Abruf gibt 20 Kommentare und einen `nextPageToken` zurück, welcher zum Abruf der nächsten 20 Kommentare benötigt wird. Dieser Token entfällt, sobald die letzten Kommentare abgerufen werden. Für den Proof of Concept wird ein Counter eingesetzt, um den Verbrauch von Quota gering zu halten."
   ]
  },
  {
   "cell_type": "code",
   "execution_count": 8,
   "metadata": {},
   "outputs": [],
   "source": [
    "def get_comments(vidId):\n",
    "    '''\n",
    "    takes: youtube video id as string, global api_key as string\n",
    "    returns: list of toplevel-comments under video (no replies)\n",
    "    describtion:\n",
    "        builds a connection to Youtube Data API and executs commentsThreads().list() methods\n",
    "        iterates over response from api request and stores displayed text as string in an list\n",
    "        breaks if no NextPageToken is provided. Thus end of comments is reached.\n",
    "        breaks if counter < threshold-value prevent Youtube out of quota error\n",
    "        returns list with comments\n",
    "    '''\n",
    "    # list for several pages\n",
    "    comments = list()\n",
    "    counter = 1\n",
    "\n",
    "    # get youtube access\n",
    "    youtube = build('youtube', 'v3', \n",
    "                developerKey=api_key)\n",
    "    \n",
    "    # get response\n",
    "    response = youtube.commentThreads().list(\n",
    "\t            part='snippet',\n",
    "\t            videoId=vidId,\n",
    "                textFormat='plainText'\n",
    "\t            ).execute()\n",
    "\n",
    "    # iterate over comments and append to output list\n",
    "    while True:\n",
    "        for item in response['items']:\n",
    "            comments.append(item['snippet']['topLevelComment']['snippet']['textDisplay'])\n",
    "        \n",
    "        counter -= 1\n",
    "        if counter < 1:\n",
    "            break\n",
    "\n",
    "        if 'nextPageToken' in response:\n",
    "            response = youtube.commentThreads().list(\n",
    "\t                part='snippet',\n",
    "                    pageToken=response['nextPageToken'],\n",
    "\t                videoId=vidId\n",
    "\t                ).execute()\n",
    "        else:\n",
    "            break\n",
    "    \n",
    "    return comments"
   ]
  },
  {
   "cell_type": "markdown",
   "metadata": {},
   "source": [
    "Im nächsten Schritt wird das Video-ID von oben verwendet, um die Anzahl der ersten Kommentarabfrage und die ersten beiden Kommentare abzurufen.  \n",
    "Die Abbildung zeigt die letzten Kommentare zum Zeitpunkt der Code-Ausführung unter dem Video.\n",
    "\n",
    "```{figure} /images/comment_yt_nfl.png\n",
    "---\n",
    "name: nfl_comment_yt\n",
    "---\n",
    "Screenshot Youtube Comments {cite:p}`nfl_yt_vid`\n",
    "```"
   ]
  },
  {
   "cell_type": "code",
   "execution_count": 11,
   "metadata": {},
   "outputs": [
    {
     "name": "stdout",
     "output_type": "stream",
     "text": [
      "Anzahl Kommentare: 20\n",
      "--------------------\n",
      "Erster Kommentare: Andy Reid : I draw on players faces when there asleep\n",
      "--------------------\n",
      "Zweiter Kommentare: Why so many gamer nerds talking gibberish? 🤣\n"
     ]
    }
   ],
   "source": [
    "video = 'MUd1fUyTA5Q' # Dieser String kommt aus Youtube I\n",
    "myComments = get_comments(video)\n",
    "print('Anzahl Kommentare:',len(myComments))\n",
    "print('-'*20)\n",
    "print('Erster Kommentare:',myComments[0])\n",
    "print('-'*20)\n",
    "print('Zweiter Kommentare:',myComments[1])"
   ]
  },
  {
   "cell_type": "markdown",
   "metadata": {},
   "source": [
    "## Sentiment Analyse\n",
    "\n",
    "Je Kommentar wird die Stimmung (das Sentiment) ausgelesen. Ziel des Projektes ist die Stimmung zu den spielenden Teams auszuwerten. Es besteht die Möglichkeit, dass in den Kommentaren auch Sentimente zu anderen Teams oder Sachverhalten (z.B. Half-Time-Show, Schiedsrichter, Fans, etc.) ausgewertet werden, weil diese im Kontext genannt werden.  \n",
    "Beispielsweise könnte unter dem Video zu \"Titans vs Rams\" darüber gesprochen werden, dass ein Spieler bereits beim Spiel gegen die Packers schlecht performt hat. Um diesen verzerrenden Zusammenhang abzumildern, wird mit der Google Cloud Funktion „Entity-Sentiment“ gearbeitet. Diese extrahiert neben dem Sentimentwert auch die vorhandenen Entitäten mit folgenden Kennzahlen:\n",
    "\n",
    "* Salience\n",
    "* Score\n",
    "* Magnitude\n",
    "\n",
    "**Salience** stellt die Relevanz der Entität im Text dar. Die Skala beträgt 0.0 bis 1.0. Desto höher der Werte, umso relevanter ist die Entität. **Score** ist der eigentliche Sentimentwert in Bezug auf die Entität. Er liegt zwischen -1 und 1 für negativ bis positiv. Jedoch tendiert auch eine gemischte Stimmung zum Wert Null. **Magnitude** dient zur Evaluation des Scores und seiner Tendenz zu Null bei gemischten Dokumenten. Weniger emotionale Kommentare haben einen geringen Magnitude-Wert. Ein hoher Wert der Emotionalität bei geringen Sentiment lässt auf einen Kommentar mit gemischter Stimmung schließen. {cite:p}`yt_doc_entsent`\n",
    "\n",
    "Die folgende Funktion gibt die Entität mit den jeweiligen Werten als Dictionary zurück.\n"
   ]
  },
  {
   "cell_type": "code",
   "execution_count": 12,
   "metadata": {},
   "outputs": [],
   "source": [
    "def get_entity_sentiment(myText):\n",
    "    '''\n",
    "    takes: string with comment\n",
    "    returns: dictionary with entity and sentiment-values\n",
    "    '''\n",
    "    client = language_v1.LanguageServiceClient()\n",
    "    doc = language_v1.Document(content=myText,type_=language_v1.types.Document.Type.PLAIN_TEXT)\n",
    "    response = client.analyze_entity_sentiment(request={'document':doc, 'encoding_type':language_v1.EncodingType.UTF8})\n",
    "    myList = list()\n",
    "    for ent in response.entities:\n",
    "        myDict = dict()\n",
    "        sent = ent.sentiment \n",
    "        myDict['entity'] = ent.name\n",
    "        myDict['salience'] = ent.salience\n",
    "        myDict['score'] = sent.score\n",
    "        myDict['magnitude'] = sent.magnitude\n",
    "        myList.append(myDict)\n",
    "    return myList"
   ]
  },
  {
   "cell_type": "markdown",
   "metadata": {},
   "source": [
    "Nachfolgend wird ein echter, eher neutraler Kommentar dargestellt. Im Anschluss folgen drei erfundene Kommentare: ein positiver, ein negativer und ein Kommmentar mit gemischter Stimmung.\n",
    "\n",
    "Es wird gezeigt, dass der neutrale Kommentar viele Null-Werte enthält. Jedoch die Titans als relevanteste Entität erkannt werden.  \n",
    "Für den negativen Kommentar werden eindeutige Sentiment-Score und Salience-Werte ausgegeben. Der magnitude-Wert zeigt auch eine deutliche Emotionalität an. \n",
    "Der gemischte Kommentar erkennt im Vergleich zum nachfolgenden positiven Kommentar die Titans als relevanteste Entität mit weniger Magnitude und Sentiment, weil die Stimmung gemischt ist.\n"
   ]
  },
  {
   "cell_type": "code",
   "execution_count": 19,
   "metadata": {},
   "outputs": [],
   "source": [
    "myTest = get_entity_sentiment('The Titans showed the Dallas Cowboys and the NFL how to finish a game, especially against Aaron Rodgers.')\n",
    "myTest2 = get_entity_sentiment('Titans are stupid.')\n",
    "myTest3 = get_entity_sentiment('Titans are the best team ever but that player-guy was stupid.')\n",
    "myTest4 = get_entity_sentiment('Titans are the best team ever.')"
   ]
  },
  {
   "cell_type": "code",
   "execution_count": 20,
   "metadata": {},
   "outputs": [
    {
     "name": "stdout",
     "output_type": "stream",
     "text": [
      "Neutral Comment\n",
      "[{'entity': 'Titans', 'salience': 0.5078485012054443, 'score': 0.0, 'magnitude': 0.0}, {'entity': 'NFL', 'salience': 0.17606110870838165, 'score': 0.0, 'magnitude': 0.0}, {'entity': 'Dallas Cowboys', 'salience': 0.13596995174884796, 'score': 0.0, 'magnitude': 0.0}, {'entity': 'game', 'salience': 0.09261608868837357, 'score': 0.0, 'magnitude': 0.0}, {'entity': 'Aaron Rodgers', 'salience': 0.08750434964895248, 'score': 0.0, 'magnitude': 0.0}]\n",
      "--------------------\n",
      "Negative Comment\n",
      "[{'entity': 'Titans', 'salience': 1.0, 'score': -0.699999988079071, 'magnitude': 0.699999988079071}]\n",
      "--------------------\n",
      "Positive Comment with Negative Component\n",
      "[{'entity': 'Titans', 'salience': 0.6374751329421997, 'score': 0.20000000298023224, 'magnitude': 0.20000000298023224}, {'entity': 'team', 'salience': 0.27688688039779663, 'score': 0.4000000059604645, 'magnitude': 0.4000000059604645}, {'entity': 'player-guy', 'salience': 0.08563800156116486, 'score': 0.20000000298023224, 'magnitude': 0.20000000298023224}]\n",
      "--------------------\n",
      "Positive Comment\n",
      "[{'entity': 'Titans', 'salience': 0.695039689540863, 'score': 0.8999999761581421, 'magnitude': 0.8999999761581421}, {'entity': 'team', 'salience': 0.30496031045913696, 'score': 0.8999999761581421, 'magnitude': 0.8999999761581421}]\n"
     ]
    }
   ],
   "source": [
    "print('Neutral Comment')\n",
    "print(myTest)\n",
    "print('-'*20)\n",
    "print('Negative Comment')\n",
    "print(myTest2)\n",
    "print('-'*20)\n",
    "print('Positive Comment with Negative Component')\n",
    "print(myTest3)\n",
    "print('-'*20)\n",
    "print('Positive Comment')\n",
    "print(myTest4)"
   ]
  },
  {
   "cell_type": "markdown",
   "metadata": {},
   "source": [
    "## Anwendung auf NFL-Daten\n",
    "\n",
    "In diesem Abschnitt wird die Anwendung der oben beschriebenen Funktionen auf die NFL-Daten erstellt. Durch die Limitierung von 10.000 Abrufen der Youtube API wird das Scrapping auf mehrere Tage verteilt. Um bereits ausgelesene Footballspiele zu erkennen, wird das Dokument gelöscht, sobald die darauf basierenden Dokumente mit Kommentaren und Entitäten erstellt wurden.\n",
    "\n",
    "1. Auslesen von Dokumenten ohne Video-ID aus mongodb\n",
    "2. Zusammensetzen des Videotitels aus den Daten\n",
    "3. Abrufen der Video-ID\n",
    "4. Abrufen der Kommentare\n",
    "5. Iterieren über die Kommentare\n",
    "6. Anlegen eines Dokuments je Entität\n",
    "7. Löschen des Dokuments ohne Video-ID (siehe Schritt 1)\n",
    "\n",
    "Mit try-except werden Fehlermeldungen zu nicht englischsprachigen Kommentaren abgefangen. Diese werden für die Sentimentanalyse nicht verwendet.\n"
   ]
  },
  {
   "cell_type": "code",
   "execution_count": 23,
   "metadata": {},
   "outputs": [
    {
     "name": "stdout",
     "output_type": "stream",
     "text": [
      "Comment is not in English.\n",
      "Anzahl Kommentare: 40\n"
     ]
    }
   ],
   "source": [
    "myList = mycoll.find({'videoID':{'$exists':False}})[0:2] # Anzahl der Dokumente = 2\n",
    "counter = 0\n",
    "for doc in myList:\n",
    "    mongo_obj_id = doc['_id'] # Store ObjectID from mongoDB\n",
    "    myTitle = doc['team1']+' '+doc['team2']+' '+doc['week']+' Highlights | NFL 2021' # Generate Title String to retrieve videoID\n",
    "    vid_id = get_videoID_by_title(myTitle)\n",
    "\n",
    "    for comment in get_comments(vid_id):\n",
    "        counter += 1\n",
    "        myDict = dict()\n",
    "        # Retrieve old information\n",
    "        myDict = doc\n",
    "        myDict['videoID'] = vid_id\n",
    "\n",
    "        # Add new information / generate one doc per entity\n",
    "        myDict['comment'] = comment\n",
    "        try: \n",
    "            entList = get_entity_sentiment(comment)\n",
    "            for ent in entList:\n",
    "                del myDict['_id'] # Delete ObjectId that is returned after first insert_one() function call\n",
    "                myDict['entity'] = ent['entity']\n",
    "                myDict['salience'] = ent['salience']\n",
    "                myDict['score'] = ent['score']\n",
    "                myDict['magnitude'] = ent['magnitude']\n",
    "                mycoll.insert_one(myDict)\n",
    "        except:\n",
    "            print('Comment is not in English.') # Catch Comments that are not in English. Those cannot be analysed by our sentiment-function.\n",
    "    mycoll.delete_one({'_id':ObjectId(mongo_obj_id)}) # Delete Object bei ID\n",
    "\n",
    "print('Anzahl Kommentare:',counter)"
   ]
  },
  {
   "attachments": {},
   "cell_type": "markdown",
   "metadata": {},
   "source": [
    "Nachfolgend werden drei Ziel-Dokumente für einen Kommentar angezeigt, jeweils mit der erkannten Entität. Inwiefern die Entität verwendet werden kann, wird im [Kapitel Analyse](gc_analysis) erläutert."
   ]
  },
  {
   "cell_type": "code",
   "execution_count": 28,
   "metadata": {},
   "outputs": [
    {
     "data": {
      "text/plain": [
       "[{'_id': ObjectId('638b4650fa6daae7e3705e40'),\n",
       "  'team1': 'Cowboys',\n",
       "  'score1': '16',\n",
       "  'team2': 'Broncos',\n",
       "  'score2': '30',\n",
       "  'year': '2021',\n",
       "  'week': 'Week 9',\n",
       "  'videoID': 'fBJx86Q9JkQ',\n",
       "  'comment': 'This Cowboys team was 6-1? Getting absolutely dumpstered by a mediocre at best Broncos team? Strange.',\n",
       "  'entity': 'Cowboys',\n",
       "  'salience': 0.3155188262462616,\n",
       "  'score': 0.0,\n",
       "  'magnitude': 0.0},\n",
       " {'_id': ObjectId('638b4650fa6daae7e3705e42'),\n",
       "  'team1': 'Cowboys',\n",
       "  'score1': '16',\n",
       "  'team2': 'Broncos',\n",
       "  'score2': '30',\n",
       "  'year': '2021',\n",
       "  'week': 'Week 9',\n",
       "  'videoID': 'fBJx86Q9JkQ',\n",
       "  'comment': 'This Cowboys team was 6-1? Getting absolutely dumpstered by a mediocre at best Broncos team? Strange.',\n",
       "  'entity': 'Broncos',\n",
       "  'salience': 0.03218727558851242,\n",
       "  'score': -0.800000011920929,\n",
       "  'magnitude': 0.800000011920929},\n",
       " {'_id': ObjectId('638b4650fa6daae7e3705e43'),\n",
       "  'team1': 'Cowboys',\n",
       "  'score1': '16',\n",
       "  'team2': 'Broncos',\n",
       "  'score2': '30',\n",
       "  'year': '2021',\n",
       "  'week': 'Week 9',\n",
       "  'videoID': 'fBJx86Q9JkQ',\n",
       "  'comment': 'This Cowboys team was 6-1? Getting absolutely dumpstered by a mediocre at best Broncos team? Strange.',\n",
       "  'entity': 'Strange',\n",
       "  'salience': 0.022530527785420418,\n",
       "  'score': 0.0,\n",
       "  'magnitude': 0.0}]"
      ]
     },
     "execution_count": 28,
     "metadata": {},
     "output_type": "execute_result"
    }
   ],
   "source": [
    "myList = list(mycoll.find({'videoID':{'$exists':True}})[0:3])\n",
    "myList"
   ]
  }
 ],
 "metadata": {
  "kernelspec": {
   "display_name": "Python 3 (ipykernel)",
   "language": "python",
   "name": "python3"
  },
  "language_info": {
   "codemirror_mode": {
    "name": "ipython",
    "version": 3
   },
   "file_extension": ".py",
   "mimetype": "text/x-python",
   "name": "python",
   "nbconvert_exporter": "python",
   "pygments_lexer": "ipython3",
   "version": "3.9.13 (main, Aug 25 2022, 18:29:29) \n[Clang 12.0.0 ]"
  },
  "vscode": {
   "interpreter": {
    "hash": "fd0a90840973ec53c960faac2ec5a80b0cd969d8e1e064cbc11596d09821ee2d"
   }
  }
 },
 "nbformat": 4,
 "nbformat_minor": 2
}
